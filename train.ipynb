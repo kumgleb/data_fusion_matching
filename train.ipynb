{
 "cells": [
  {
   "cell_type": "code",
   "execution_count": 1,
   "source": [
    "import gc\n",
    "import wandb\n",
    "import pickle\n",
    "import numpy as np \n",
    "import pandas as pd\n",
    "from tqdm import tqdm \n",
    "\n",
    "import torch \n",
    "from torch import nn\n",
    "from torch.utils.data import DataLoader \n",
    "\n",
    "from sklearn.model_selection import KFold\n",
    "from sklearn.model_selection import train_test_split\n",
    "\n",
    "from src.model.utils import load_embeddings\n",
    "from src.model.data_utils import APNDataset, EMBDataset\n",
    "from src.model.model import SModel\n",
    "from src.model.train_utils import train_model\n",
    "from src.utils import load_code_to_idx\n",
    "\n",
    "from src.transactions_emb import create_transactions_embeddings\n",
    "from src.clickstream_emb import create_clickstream_embeddings\n"
   ],
   "outputs": [],
   "metadata": {}
  },
  {
   "cell_type": "code",
   "execution_count": 2,
   "source": [
    "# TRAIN_MATCHING_PATH = \"./data/train_matching.csv\"\n",
    "# TRANSACTIONS_PATH = \"./data/transactions.csv\"\n",
    "# CLICKSTREAM_PATH = \"./data/clickstream.csv\"\n",
    "\n",
    "TRAIN_MATCHING_PATH = \"/home/glebk/VSProjects/projects/Matching/data/train_matching.csv\"\n",
    "TRANSACTIONS_PATH = \"/home/glebk/VSProjects/projects/Matching/data/transactions.csv\"\n",
    "CLICKSTREAM_PATH = \"/home/glebk/VSProjects/projects/Matching/data/clickstream.csv\"\n"
   ],
   "outputs": [],
   "metadata": {}
  },
  {
   "cell_type": "code",
   "execution_count": 3,
   "source": [
    "train_match = pd.read_csv(TRAIN_MATCHING_PATH)\n",
    "train_match.head()"
   ],
   "outputs": [
    {
     "output_type": "execute_result",
     "data": {
      "text/html": [
       "<div>\n",
       "<style scoped>\n",
       "    .dataframe tbody tr th:only-of-type {\n",
       "        vertical-align: middle;\n",
       "    }\n",
       "\n",
       "    .dataframe tbody tr th {\n",
       "        vertical-align: top;\n",
       "    }\n",
       "\n",
       "    .dataframe thead th {\n",
       "        text-align: right;\n",
       "    }\n",
       "</style>\n",
       "<table border=\"1\" class=\"dataframe\">\n",
       "  <thead>\n",
       "    <tr style=\"text-align: right;\">\n",
       "      <th></th>\n",
       "      <th>bank</th>\n",
       "      <th>rtk</th>\n",
       "    </tr>\n",
       "  </thead>\n",
       "  <tbody>\n",
       "    <tr>\n",
       "      <th>0</th>\n",
       "      <td>178b387813ac4a63a2200274a9e3876e</td>\n",
       "      <td>e19c0f141e9442c5bdb0d5751f6fba1c</td>\n",
       "    </tr>\n",
       "    <tr>\n",
       "      <th>1</th>\n",
       "      <td>47cffa46e6b04389ba91a70735d2c3ff</td>\n",
       "      <td>7df3371aabd349e4ac2de8299238627d</td>\n",
       "    </tr>\n",
       "    <tr>\n",
       "      <th>2</th>\n",
       "      <td>f73b767cfd72472aa06df9a69e746aaf</td>\n",
       "      <td>b23d62c7e41145a7ad140a4fcfaafefa</td>\n",
       "    </tr>\n",
       "    <tr>\n",
       "      <th>3</th>\n",
       "      <td>48da649603734185b98dcea93484dbc7</td>\n",
       "      <td>63ad789541c54463ad54d0a707b3ab8b</td>\n",
       "    </tr>\n",
       "    <tr>\n",
       "      <th>4</th>\n",
       "      <td>37304ef19de542ee8fe8a6f050236525</td>\n",
       "      <td>c0e96de5dd594d948a8b9fde9e6980cb</td>\n",
       "    </tr>\n",
       "  </tbody>\n",
       "</table>\n",
       "</div>"
      ],
      "text/plain": [
       "                               bank                               rtk\n",
       "0  178b387813ac4a63a2200274a9e3876e  e19c0f141e9442c5bdb0d5751f6fba1c\n",
       "1  47cffa46e6b04389ba91a70735d2c3ff  7df3371aabd349e4ac2de8299238627d\n",
       "2  f73b767cfd72472aa06df9a69e746aaf  b23d62c7e41145a7ad140a4fcfaafefa\n",
       "3  48da649603734185b98dcea93484dbc7  63ad789541c54463ad54d0a707b3ab8b\n",
       "4  37304ef19de542ee8fe8a6f050236525  c0e96de5dd594d948a8b9fde9e6980cb"
      ]
     },
     "metadata": {},
     "execution_count": 3
    }
   ],
   "metadata": {}
  },
  {
   "cell_type": "code",
   "execution_count": 4,
   "source": [
    "# Separate matched and unmatched:\n",
    "\n",
    "idx = 14671\n",
    "\n",
    "train_match_paired = train_match[:idx]\n",
    "train_match_unpaired = train_match[idx:]\n",
    "\n",
    "# Sainity check:\n",
    "assert len(train_match_paired) + len(train_match_unpaired) == len(train_match)\n",
    "assert train_match_paired.loc[len(train_match_paired) - 1].rtk != \"0\"\n",
    "assert train_match_unpaired.iloc[0].rtk == \"0\"\n"
   ],
   "outputs": [],
   "metadata": {}
  },
  {
   "cell_type": "code",
   "execution_count": 5,
   "source": [
    "# K-Fold split:\n",
    "\n",
    "folds = {}\n",
    "kf = KFold(n_splits=5, shuffle=True, random_state=42)\n",
    "\n",
    "for i, idxs in enumerate(kf.split(train_match_paired)):\n",
    "    train_index, test_index = idxs\n",
    "    train = train_match_paired.iloc[train_index]\n",
    "    test = train_match_paired.iloc[test_index]\n",
    "    folds[i] = {\"train\": train.copy(), \"test\": test.copy()}"
   ],
   "outputs": [],
   "metadata": {}
  },
  {
   "cell_type": "code",
   "execution_count": 6,
   "source": [
    "# Training config: \n",
    "\n",
    "cfg = {\n",
    "    \"wandb_logging\": True,\n",
    "    \"fold\": 4,\n",
    "    \"test_size\": 0.2,\n",
    "    \"n_iters\": 7000,\n",
    "    \"n_iters_val\": 100,\n",
    "    \"lr\": 3e-4,\n",
    "    \"bs\": 32,\n",
    "    \"save_best_val\": True,\n",
    "    \"checkpoint_path\": \"./weights\",\n",
    "}"
   ],
   "outputs": [],
   "metadata": {}
  },
  {
   "cell_type": "code",
   "execution_count": 7,
   "source": [
    "# Logging: \n",
    "\n",
    "if cfg[\"wandb_logging\"]:\n",
    "    wandb.init(project=\"matching\", entity=\"glebk\")\n",
    "    wandb.config = cfg"
   ],
   "outputs": [
    {
     "output_type": "stream",
     "name": "stderr",
     "text": [
      "Failed to detect the name of this notebook, you can set it manually with the WANDB_NOTEBOOK_NAME environment variable to enable code saving.\n",
      "\u001b[34m\u001b[1mwandb\u001b[0m: Currently logged in as: \u001b[33mglebk\u001b[0m (use `wandb login --relogin` to force relogin)\n"
     ]
    },
    {
     "output_type": "display_data",
     "data": {
      "text/html": [
       "wandb version 0.12.16 is available!  To upgrade, please run:\n",
       " $ pip install wandb --upgrade"
      ],
      "text/plain": [
       "<IPython.core.display.HTML object>"
      ]
     },
     "metadata": {}
    },
    {
     "output_type": "display_data",
     "data": {
      "text/html": [
       "Tracking run with wandb version 0.12.11"
      ],
      "text/plain": [
       "<IPython.core.display.HTML object>"
      ]
     },
     "metadata": {}
    },
    {
     "output_type": "display_data",
     "data": {
      "text/html": [
       "Run data is saved locally in <code>/home/glebk/VSProjects/projects/data_fusion_matching/wandb/run-20220511_121309-243ry000</code>"
      ],
      "text/plain": [
       "<IPython.core.display.HTML object>"
      ]
     },
     "metadata": {}
    },
    {
     "output_type": "display_data",
     "data": {
      "text/html": [
       "Syncing run <strong><a href=\"https://wandb.ai/glebk/matching/runs/243ry000\" target=\"_blank\">vibrant-gorge-54</a></strong> to <a href=\"https://wandb.ai/glebk/matching\" target=\"_blank\">Weights & Biases</a> (<a href=\"https://wandb.me/run\" target=\"_blank\">docs</a>)<br/>"
      ],
      "text/plain": [
       "<IPython.core.display.HTML object>"
      ]
     },
     "metadata": {}
    }
   ],
   "metadata": {}
  },
  {
   "cell_type": "code",
   "execution_count": 8,
   "source": [
    "# Loading cat_id to idx mapping:\n",
    "\n",
    "mcc_code_to_idx, cat_code_to_idx = load_code_to_idx(\n",
    "    \"./submission/mcc_code_to_idx.pickle\",\n",
    "    \"./submission/cat_code_to_idx.pickle\",\n",
    ")\n"
   ],
   "outputs": [],
   "metadata": {}
  },
  {
   "cell_type": "code",
   "execution_count": 32,
   "source": [
    "# Load raw transactions:\n",
    "\n",
    "transactions = pd.read_csv(TRANSACTIONS_PATH)\n",
    "print(transactions.shape)\n",
    "\n",
    "# Remove transactions with mcc == -1:\n",
    "transactions = transactions[transactions.mcc_code != -1]\n",
    "print(transactions.shape)\n",
    "\n",
    "transactions.head()\n"
   ],
   "outputs": [
    {
     "output_type": "stream",
     "name": "stdout",
     "text": [
      "(19821910, 5)\n",
      "(19198619, 5)\n"
     ]
    },
    {
     "output_type": "execute_result",
     "data": {
      "text/html": [
       "<div>\n",
       "<style scoped>\n",
       "    .dataframe tbody tr th:only-of-type {\n",
       "        vertical-align: middle;\n",
       "    }\n",
       "\n",
       "    .dataframe tbody tr th {\n",
       "        vertical-align: top;\n",
       "    }\n",
       "\n",
       "    .dataframe thead th {\n",
       "        text-align: right;\n",
       "    }\n",
       "</style>\n",
       "<table border=\"1\" class=\"dataframe\">\n",
       "  <thead>\n",
       "    <tr style=\"text-align: right;\">\n",
       "      <th></th>\n",
       "      <th>user_id</th>\n",
       "      <th>mcc_code</th>\n",
       "      <th>currency_rk</th>\n",
       "      <th>transaction_amt</th>\n",
       "      <th>transaction_dttm</th>\n",
       "    </tr>\n",
       "  </thead>\n",
       "  <tbody>\n",
       "    <tr>\n",
       "      <th>0</th>\n",
       "      <td>000932580e404dafbecd5916d4640938</td>\n",
       "      <td>5411</td>\n",
       "      <td>48</td>\n",
       "      <td>-361.07230</td>\n",
       "      <td>2020-08-03 08:05:23</td>\n",
       "    </tr>\n",
       "    <tr>\n",
       "      <th>1</th>\n",
       "      <td>000932580e404dafbecd5916d4640938</td>\n",
       "      <td>5499</td>\n",
       "      <td>48</td>\n",
       "      <td>-137.31398</td>\n",
       "      <td>2020-08-05 01:27:40</td>\n",
       "    </tr>\n",
       "    <tr>\n",
       "      <th>2</th>\n",
       "      <td>000932580e404dafbecd5916d4640938</td>\n",
       "      <td>5499</td>\n",
       "      <td>48</td>\n",
       "      <td>-138.84981</td>\n",
       "      <td>2020-08-05 03:28:11</td>\n",
       "    </tr>\n",
       "    <tr>\n",
       "      <th>3</th>\n",
       "      <td>000932580e404dafbecd5916d4640938</td>\n",
       "      <td>4829</td>\n",
       "      <td>48</td>\n",
       "      <td>-309.47653</td>\n",
       "      <td>2020-08-06 00:36:29</td>\n",
       "    </tr>\n",
       "    <tr>\n",
       "      <th>4</th>\n",
       "      <td>000932580e404dafbecd5916d4640938</td>\n",
       "      <td>5411</td>\n",
       "      <td>48</td>\n",
       "      <td>-133.47370</td>\n",
       "      <td>2020-08-09 00:30:13</td>\n",
       "    </tr>\n",
       "  </tbody>\n",
       "</table>\n",
       "</div>"
      ],
      "text/plain": [
       "                            user_id  mcc_code  currency_rk  transaction_amt  \\\n",
       "0  000932580e404dafbecd5916d4640938      5411           48       -361.07230   \n",
       "1  000932580e404dafbecd5916d4640938      5499           48       -137.31398   \n",
       "2  000932580e404dafbecd5916d4640938      5499           48       -138.84981   \n",
       "3  000932580e404dafbecd5916d4640938      4829           48       -309.47653   \n",
       "4  000932580e404dafbecd5916d4640938      5411           48       -133.47370   \n",
       "\n",
       "      transaction_dttm  \n",
       "0  2020-08-03 08:05:23  \n",
       "1  2020-08-05 01:27:40  \n",
       "2  2020-08-05 03:28:11  \n",
       "3  2020-08-06 00:36:29  \n",
       "4  2020-08-09 00:30:13  "
      ]
     },
     "metadata": {},
     "execution_count": 32
    }
   ],
   "metadata": {}
  },
  {
   "cell_type": "code",
   "execution_count": 10,
   "source": [
    "# Transform transactions to feature vectors:\n",
    "\n",
    "bank_trans_emb = create_transactions_embeddings(transactions, mcc_code_to_idx)\n",
    "bank_trans_emb.head()\n"
   ],
   "outputs": [
    {
     "output_type": "execute_result",
     "data": {
      "text/html": [
       "<div>\n",
       "<style scoped>\n",
       "    .dataframe tbody tr th:only-of-type {\n",
       "        vertical-align: middle;\n",
       "    }\n",
       "\n",
       "    .dataframe tbody tr th {\n",
       "        vertical-align: top;\n",
       "    }\n",
       "\n",
       "    .dataframe thead th {\n",
       "        text-align: right;\n",
       "    }\n",
       "</style>\n",
       "<table border=\"1\" class=\"dataframe\">\n",
       "  <thead>\n",
       "    <tr style=\"text-align: right;\">\n",
       "      <th></th>\n",
       "      <th>user_id</th>\n",
       "      <th>0</th>\n",
       "      <th>1</th>\n",
       "      <th>2</th>\n",
       "      <th>3</th>\n",
       "      <th>4</th>\n",
       "      <th>5</th>\n",
       "      <th>6</th>\n",
       "      <th>7</th>\n",
       "      <th>8</th>\n",
       "      <th>...</th>\n",
       "      <th>375</th>\n",
       "      <th>376</th>\n",
       "      <th>377</th>\n",
       "      <th>378</th>\n",
       "      <th>379</th>\n",
       "      <th>380</th>\n",
       "      <th>381</th>\n",
       "      <th>382</th>\n",
       "      <th>383</th>\n",
       "      <th>384</th>\n",
       "    </tr>\n",
       "  </thead>\n",
       "  <tbody>\n",
       "    <tr>\n",
       "      <th>0</th>\n",
       "      <td>000932580e404dafbecd5916d4640938</td>\n",
       "      <td>0.0</td>\n",
       "      <td>0.0</td>\n",
       "      <td>0.0</td>\n",
       "      <td>0.0</td>\n",
       "      <td>0.0</td>\n",
       "      <td>0.0</td>\n",
       "      <td>0.0</td>\n",
       "      <td>0.0</td>\n",
       "      <td>0.0</td>\n",
       "      <td>...</td>\n",
       "      <td>0.0</td>\n",
       "      <td>0.0</td>\n",
       "      <td>0.0</td>\n",
       "      <td>0.0</td>\n",
       "      <td>0.0</td>\n",
       "      <td>0.0</td>\n",
       "      <td>0.0</td>\n",
       "      <td>2.0</td>\n",
       "      <td>0.0</td>\n",
       "      <td>0.0</td>\n",
       "    </tr>\n",
       "    <tr>\n",
       "      <th>1</th>\n",
       "      <td>0009e36b42cb4caeb928a1e596819495</td>\n",
       "      <td>0.0</td>\n",
       "      <td>0.0</td>\n",
       "      <td>0.0</td>\n",
       "      <td>0.0</td>\n",
       "      <td>0.0</td>\n",
       "      <td>0.0</td>\n",
       "      <td>0.0</td>\n",
       "      <td>0.0</td>\n",
       "      <td>0.0</td>\n",
       "      <td>...</td>\n",
       "      <td>0.0</td>\n",
       "      <td>6.0</td>\n",
       "      <td>0.0</td>\n",
       "      <td>0.0</td>\n",
       "      <td>0.0</td>\n",
       "      <td>0.0</td>\n",
       "      <td>0.0</td>\n",
       "      <td>2.0</td>\n",
       "      <td>0.0</td>\n",
       "      <td>0.0</td>\n",
       "    </tr>\n",
       "    <tr>\n",
       "      <th>2</th>\n",
       "      <td>000b29acb6bd44f99473c1be5ca28f3c</td>\n",
       "      <td>0.0</td>\n",
       "      <td>0.0</td>\n",
       "      <td>0.0</td>\n",
       "      <td>0.0</td>\n",
       "      <td>0.0</td>\n",
       "      <td>0.0</td>\n",
       "      <td>0.0</td>\n",
       "      <td>0.0</td>\n",
       "      <td>0.0</td>\n",
       "      <td>...</td>\n",
       "      <td>0.0</td>\n",
       "      <td>3.0</td>\n",
       "      <td>0.0</td>\n",
       "      <td>0.0</td>\n",
       "      <td>0.0</td>\n",
       "      <td>0.0</td>\n",
       "      <td>10.0</td>\n",
       "      <td>0.0</td>\n",
       "      <td>0.0</td>\n",
       "      <td>0.0</td>\n",
       "    </tr>\n",
       "    <tr>\n",
       "      <th>3</th>\n",
       "      <td>000c5327d99941fe934169838c65b92c</td>\n",
       "      <td>1.0</td>\n",
       "      <td>0.0</td>\n",
       "      <td>0.0</td>\n",
       "      <td>0.0</td>\n",
       "      <td>0.0</td>\n",
       "      <td>0.0</td>\n",
       "      <td>0.0</td>\n",
       "      <td>0.0</td>\n",
       "      <td>0.0</td>\n",
       "      <td>...</td>\n",
       "      <td>0.0</td>\n",
       "      <td>0.0</td>\n",
       "      <td>0.0</td>\n",
       "      <td>0.0</td>\n",
       "      <td>0.0</td>\n",
       "      <td>1.0</td>\n",
       "      <td>5.0</td>\n",
       "      <td>4.0</td>\n",
       "      <td>0.0</td>\n",
       "      <td>0.0</td>\n",
       "    </tr>\n",
       "    <tr>\n",
       "      <th>4</th>\n",
       "      <td>000e0d54d7c945ebb8f6f855972e8396</td>\n",
       "      <td>0.0</td>\n",
       "      <td>0.0</td>\n",
       "      <td>0.0</td>\n",
       "      <td>0.0</td>\n",
       "      <td>0.0</td>\n",
       "      <td>0.0</td>\n",
       "      <td>0.0</td>\n",
       "      <td>0.0</td>\n",
       "      <td>0.0</td>\n",
       "      <td>...</td>\n",
       "      <td>0.0</td>\n",
       "      <td>2.0</td>\n",
       "      <td>0.0</td>\n",
       "      <td>0.0</td>\n",
       "      <td>0.0</td>\n",
       "      <td>0.0</td>\n",
       "      <td>0.0</td>\n",
       "      <td>0.0</td>\n",
       "      <td>0.0</td>\n",
       "      <td>0.0</td>\n",
       "    </tr>\n",
       "  </tbody>\n",
       "</table>\n",
       "<p>5 rows × 386 columns</p>\n",
       "</div>"
      ],
      "text/plain": [
       "                            user_id    0    1    2    3    4    5    6    7  \\\n",
       "0  000932580e404dafbecd5916d4640938  0.0  0.0  0.0  0.0  0.0  0.0  0.0  0.0   \n",
       "1  0009e36b42cb4caeb928a1e596819495  0.0  0.0  0.0  0.0  0.0  0.0  0.0  0.0   \n",
       "2  000b29acb6bd44f99473c1be5ca28f3c  0.0  0.0  0.0  0.0  0.0  0.0  0.0  0.0   \n",
       "3  000c5327d99941fe934169838c65b92c  1.0  0.0  0.0  0.0  0.0  0.0  0.0  0.0   \n",
       "4  000e0d54d7c945ebb8f6f855972e8396  0.0  0.0  0.0  0.0  0.0  0.0  0.0  0.0   \n",
       "\n",
       "     8  ...  375  376  377  378  379  380   381  382  383  384  \n",
       "0  0.0  ...  0.0  0.0  0.0  0.0  0.0  0.0   0.0  2.0  0.0  0.0  \n",
       "1  0.0  ...  0.0  6.0  0.0  0.0  0.0  0.0   0.0  2.0  0.0  0.0  \n",
       "2  0.0  ...  0.0  3.0  0.0  0.0  0.0  0.0  10.0  0.0  0.0  0.0  \n",
       "3  0.0  ...  0.0  0.0  0.0  0.0  0.0  1.0   5.0  4.0  0.0  0.0  \n",
       "4  0.0  ...  0.0  2.0  0.0  0.0  0.0  0.0   0.0  0.0  0.0  0.0  \n",
       "\n",
       "[5 rows x 386 columns]"
      ]
     },
     "metadata": {},
     "execution_count": 10
    }
   ],
   "metadata": {}
  },
  {
   "cell_type": "code",
   "execution_count": 11,
   "source": [
    "# Load raw clickstream:\n",
    "\n",
    "clickstream = pd.read_csv(CLICKSTREAM_PATH)\n",
    "clickstream.head()\n"
   ],
   "outputs": [
    {
     "output_type": "execute_result",
     "data": {
      "text/html": [
       "<div>\n",
       "<style scoped>\n",
       "    .dataframe tbody tr th:only-of-type {\n",
       "        vertical-align: middle;\n",
       "    }\n",
       "\n",
       "    .dataframe tbody tr th {\n",
       "        vertical-align: top;\n",
       "    }\n",
       "\n",
       "    .dataframe thead th {\n",
       "        text-align: right;\n",
       "    }\n",
       "</style>\n",
       "<table border=\"1\" class=\"dataframe\">\n",
       "  <thead>\n",
       "    <tr style=\"text-align: right;\">\n",
       "      <th></th>\n",
       "      <th>user_id</th>\n",
       "      <th>cat_id</th>\n",
       "      <th>timestamp</th>\n",
       "      <th>new_uid</th>\n",
       "    </tr>\n",
       "  </thead>\n",
       "  <tbody>\n",
       "    <tr>\n",
       "      <th>0</th>\n",
       "      <td>000143baebad4467a23b98c918ccda19</td>\n",
       "      <td>165</td>\n",
       "      <td>2021-01-30 20:08:12</td>\n",
       "      <td>1873448</td>\n",
       "    </tr>\n",
       "    <tr>\n",
       "      <th>1</th>\n",
       "      <td>000143baebad4467a23b98c918ccda19</td>\n",
       "      <td>165</td>\n",
       "      <td>2021-01-31 20:06:29</td>\n",
       "      <td>1873448</td>\n",
       "    </tr>\n",
       "    <tr>\n",
       "      <th>2</th>\n",
       "      <td>000143baebad4467a23b98c918ccda19</td>\n",
       "      <td>308</td>\n",
       "      <td>2021-01-31 20:12:00</td>\n",
       "      <td>1873448</td>\n",
       "    </tr>\n",
       "    <tr>\n",
       "      <th>3</th>\n",
       "      <td>000143baebad4467a23b98c918ccda19</td>\n",
       "      <td>931</td>\n",
       "      <td>2021-01-31 22:12:00</td>\n",
       "      <td>1873448</td>\n",
       "    </tr>\n",
       "    <tr>\n",
       "      <th>4</th>\n",
       "      <td>000143baebad4467a23b98c918ccda19</td>\n",
       "      <td>931</td>\n",
       "      <td>2021-02-01 16:57:00</td>\n",
       "      <td>1873448</td>\n",
       "    </tr>\n",
       "  </tbody>\n",
       "</table>\n",
       "</div>"
      ],
      "text/plain": [
       "                            user_id  cat_id            timestamp  new_uid\n",
       "0  000143baebad4467a23b98c918ccda19     165  2021-01-30 20:08:12  1873448\n",
       "1  000143baebad4467a23b98c918ccda19     165  2021-01-31 20:06:29  1873448\n",
       "2  000143baebad4467a23b98c918ccda19     308  2021-01-31 20:12:00  1873448\n",
       "3  000143baebad4467a23b98c918ccda19     931  2021-01-31 22:12:00  1873448\n",
       "4  000143baebad4467a23b98c918ccda19     931  2021-02-01 16:57:00  1873448"
      ]
     },
     "metadata": {},
     "execution_count": 11
    }
   ],
   "metadata": {}
  },
  {
   "cell_type": "code",
   "execution_count": 12,
   "source": [
    "# Transform clickstream to feature vectors:\n",
    "\n",
    "rtk_emb = create_clickstream_embeddings(clickstream, cat_code_to_idx)\n",
    "rtk_emb.head()"
   ],
   "outputs": [
    {
     "output_type": "execute_result",
     "data": {
      "text/html": [
       "<div>\n",
       "<style scoped>\n",
       "    .dataframe tbody tr th:only-of-type {\n",
       "        vertical-align: middle;\n",
       "    }\n",
       "\n",
       "    .dataframe tbody tr th {\n",
       "        vertical-align: top;\n",
       "    }\n",
       "\n",
       "    .dataframe thead th {\n",
       "        text-align: right;\n",
       "    }\n",
       "</style>\n",
       "<table border=\"1\" class=\"dataframe\">\n",
       "  <thead>\n",
       "    <tr style=\"text-align: right;\">\n",
       "      <th></th>\n",
       "      <th>user_id</th>\n",
       "      <th>0</th>\n",
       "      <th>1</th>\n",
       "      <th>2</th>\n",
       "      <th>3</th>\n",
       "      <th>4</th>\n",
       "      <th>5</th>\n",
       "      <th>6</th>\n",
       "      <th>7</th>\n",
       "      <th>8</th>\n",
       "      <th>...</th>\n",
       "      <th>392</th>\n",
       "      <th>393</th>\n",
       "      <th>394</th>\n",
       "      <th>395</th>\n",
       "      <th>396</th>\n",
       "      <th>397</th>\n",
       "      <th>398</th>\n",
       "      <th>399</th>\n",
       "      <th>400</th>\n",
       "      <th>401</th>\n",
       "    </tr>\n",
       "  </thead>\n",
       "  <tbody>\n",
       "    <tr>\n",
       "      <th>0</th>\n",
       "      <td>000143baebad4467a23b98c918ccda19</td>\n",
       "      <td>0.0</td>\n",
       "      <td>0.0</td>\n",
       "      <td>0.0</td>\n",
       "      <td>0.0</td>\n",
       "      <td>0.0</td>\n",
       "      <td>0.0</td>\n",
       "      <td>0.0</td>\n",
       "      <td>5.0</td>\n",
       "      <td>33.0</td>\n",
       "      <td>...</td>\n",
       "      <td>0.0</td>\n",
       "      <td>0.0</td>\n",
       "      <td>0.0</td>\n",
       "      <td>0.0</td>\n",
       "      <td>0.0</td>\n",
       "      <td>0.0</td>\n",
       "      <td>0.0</td>\n",
       "      <td>0.0</td>\n",
       "      <td>0.0</td>\n",
       "      <td>0.0</td>\n",
       "    </tr>\n",
       "    <tr>\n",
       "      <th>1</th>\n",
       "      <td>000a8d3cdef3455d990e97730a2cef43</td>\n",
       "      <td>52.0</td>\n",
       "      <td>0.0</td>\n",
       "      <td>0.0</td>\n",
       "      <td>0.0</td>\n",
       "      <td>0.0</td>\n",
       "      <td>233.0</td>\n",
       "      <td>0.0</td>\n",
       "      <td>1.0</td>\n",
       "      <td>41.0</td>\n",
       "      <td>...</td>\n",
       "      <td>0.0</td>\n",
       "      <td>0.0</td>\n",
       "      <td>0.0</td>\n",
       "      <td>0.0</td>\n",
       "      <td>0.0</td>\n",
       "      <td>0.0</td>\n",
       "      <td>0.0</td>\n",
       "      <td>0.0</td>\n",
       "      <td>0.0</td>\n",
       "      <td>0.0</td>\n",
       "    </tr>\n",
       "    <tr>\n",
       "      <th>2</th>\n",
       "      <td>000c399352314e759041dc1651fe6980</td>\n",
       "      <td>5.0</td>\n",
       "      <td>0.0</td>\n",
       "      <td>0.0</td>\n",
       "      <td>0.0</td>\n",
       "      <td>1.0</td>\n",
       "      <td>3.0</td>\n",
       "      <td>0.0</td>\n",
       "      <td>0.0</td>\n",
       "      <td>278.0</td>\n",
       "      <td>...</td>\n",
       "      <td>0.0</td>\n",
       "      <td>0.0</td>\n",
       "      <td>0.0</td>\n",
       "      <td>0.0</td>\n",
       "      <td>0.0</td>\n",
       "      <td>0.0</td>\n",
       "      <td>0.0</td>\n",
       "      <td>0.0</td>\n",
       "      <td>0.0</td>\n",
       "      <td>0.0</td>\n",
       "    </tr>\n",
       "    <tr>\n",
       "      <th>3</th>\n",
       "      <td>000eb2d39f4f4df0afd630c4f11ca049</td>\n",
       "      <td>0.0</td>\n",
       "      <td>0.0</td>\n",
       "      <td>0.0</td>\n",
       "      <td>0.0</td>\n",
       "      <td>0.0</td>\n",
       "      <td>0.0</td>\n",
       "      <td>94.0</td>\n",
       "      <td>0.0</td>\n",
       "      <td>11.0</td>\n",
       "      <td>...</td>\n",
       "      <td>0.0</td>\n",
       "      <td>0.0</td>\n",
       "      <td>0.0</td>\n",
       "      <td>0.0</td>\n",
       "      <td>0.0</td>\n",
       "      <td>0.0</td>\n",
       "      <td>0.0</td>\n",
       "      <td>0.0</td>\n",
       "      <td>0.0</td>\n",
       "      <td>0.0</td>\n",
       "    </tr>\n",
       "    <tr>\n",
       "      <th>4</th>\n",
       "      <td>000fc5be9e974980a1c9728f4866db11</td>\n",
       "      <td>0.0</td>\n",
       "      <td>0.0</td>\n",
       "      <td>0.0</td>\n",
       "      <td>0.0</td>\n",
       "      <td>0.0</td>\n",
       "      <td>0.0</td>\n",
       "      <td>0.0</td>\n",
       "      <td>0.0</td>\n",
       "      <td>15.0</td>\n",
       "      <td>...</td>\n",
       "      <td>0.0</td>\n",
       "      <td>0.0</td>\n",
       "      <td>0.0</td>\n",
       "      <td>0.0</td>\n",
       "      <td>0.0</td>\n",
       "      <td>0.0</td>\n",
       "      <td>0.0</td>\n",
       "      <td>0.0</td>\n",
       "      <td>0.0</td>\n",
       "      <td>0.0</td>\n",
       "    </tr>\n",
       "  </tbody>\n",
       "</table>\n",
       "<p>5 rows × 403 columns</p>\n",
       "</div>"
      ],
      "text/plain": [
       "                            user_id     0    1    2    3    4      5     6  \\\n",
       "0  000143baebad4467a23b98c918ccda19   0.0  0.0  0.0  0.0  0.0    0.0   0.0   \n",
       "1  000a8d3cdef3455d990e97730a2cef43  52.0  0.0  0.0  0.0  0.0  233.0   0.0   \n",
       "2  000c399352314e759041dc1651fe6980   5.0  0.0  0.0  0.0  1.0    3.0   0.0   \n",
       "3  000eb2d39f4f4df0afd630c4f11ca049   0.0  0.0  0.0  0.0  0.0    0.0  94.0   \n",
       "4  000fc5be9e974980a1c9728f4866db11   0.0  0.0  0.0  0.0  0.0    0.0   0.0   \n",
       "\n",
       "     7      8  ...  392  393  394  395  396  397  398  399  400  401  \n",
       "0  5.0   33.0  ...  0.0  0.0  0.0  0.0  0.0  0.0  0.0  0.0  0.0  0.0  \n",
       "1  1.0   41.0  ...  0.0  0.0  0.0  0.0  0.0  0.0  0.0  0.0  0.0  0.0  \n",
       "2  0.0  278.0  ...  0.0  0.0  0.0  0.0  0.0  0.0  0.0  0.0  0.0  0.0  \n",
       "3  0.0   11.0  ...  0.0  0.0  0.0  0.0  0.0  0.0  0.0  0.0  0.0  0.0  \n",
       "4  0.0   15.0  ...  0.0  0.0  0.0  0.0  0.0  0.0  0.0  0.0  0.0  0.0  \n",
       "\n",
       "[5 rows x 403 columns]"
      ]
     },
     "metadata": {},
     "execution_count": 12
    }
   ],
   "metadata": {}
  },
  {
   "cell_type": "code",
   "execution_count": 13,
   "source": [
    "# Train val split:\n",
    "\n",
    "train_df = folds[cfg[\"fold\"]][\"train\"]\n",
    "val_df = folds[cfg[\"fold\"]][\"test\"]\n",
    "\n",
    "train_dataset = APNDataset(train_df, bank_trans_emb, rtk_emb)\n",
    "val_dataset = APNDataset(val_df, bank_trans_emb, rtk_emb)\n",
    "\n",
    "print('Train size: ', len(train_dataset))\n",
    "print('Val size: ', len(val_dataset))"
   ],
   "outputs": [
    {
     "output_type": "stream",
     "name": "stdout",
     "text": [
      "Train size:  11737\n",
      "Val size:  2934\n"
     ]
    }
   ],
   "metadata": {}
  },
  {
   "cell_type": "code",
   "execution_count": 14,
   "source": [
    "train_loader = DataLoader(train_dataset, batch_size=cfg[\"bs\"], shuffle=True)\n",
    "val_loader = DataLoader(val_dataset, batch_size=cfg[\"bs\"], shuffle=False)"
   ],
   "outputs": [],
   "metadata": {}
  },
  {
   "cell_type": "code",
   "execution_count": 15,
   "source": [
    "device = \"cuda:0\" if torch.cuda.is_available() else \"cpu\"\n",
    "device"
   ],
   "outputs": [
    {
     "output_type": "execute_result",
     "data": {
      "text/plain": [
       "'cuda:0'"
      ]
     },
     "metadata": {},
     "execution_count": 15
    }
   ],
   "metadata": {}
  },
  {
   "cell_type": "code",
   "execution_count": 16,
   "source": [
    "model = SModel().to(device)"
   ],
   "outputs": [],
   "metadata": {}
  },
  {
   "cell_type": "code",
   "execution_count": 17,
   "source": [
    "criterion = nn.TripletMarginWithDistanceLoss(\n",
    "    distance_function=lambda x, y: 1.0 - nn.functional.cosine_similarity(x, y)\n",
    ")\n",
    "\n",
    "optimizer = torch.optim.Adam(model.parameters(), lr=cfg[\"lr\"])\n",
    "scheduler = torch.optim.lr_scheduler.StepLR(\n",
    "    optimizer, step_size=1000, gamma=0.9, verbose=True\n",
    ")\n"
   ],
   "outputs": [
    {
     "output_type": "stream",
     "name": "stdout",
     "text": [
      "Adjusting learning rate of group 0 to 3.0000e-04.\n"
     ]
    }
   ],
   "metadata": {}
  },
  {
   "cell_type": "code",
   "execution_count": null,
   "source": [
    "train_model(\n",
    "    model, train_loader, val_loader, criterion, device, optimizer, scheduler, cfg\n",
    ")\n"
   ],
   "outputs": [],
   "metadata": {}
  },
  {
   "cell_type": "markdown",
   "source": [
    "# Dist"
   ],
   "metadata": {}
  },
  {
   "cell_type": "code",
   "execution_count": 19,
   "source": [
    "from scipy.spatial import distance\n",
    "from src.model.utils import load_model\n",
    "import matplotlib.pyplot as plt"
   ],
   "outputs": [],
   "metadata": {}
  },
  {
   "cell_type": "code",
   "execution_count": 25,
   "source": [
    "train_loader = DataLoader(train_dataset, 1, shuffle=False)\n",
    "val_loader = DataLoader(val_dataset, 1, shuffle=False)\n",
    "\n",
    "train_df = folds[1][\"train\"]\n",
    "val_df = folds[1][\"test\"]\n",
    "\n",
    "train_dataset = APNDataset(train_df, bank_trans_emb, rtk_emb)\n",
    "val_dataset = APNDataset(val_df, bank_trans_emb, rtk_emb)"
   ],
   "outputs": [],
   "metadata": {}
  },
  {
   "cell_type": "code",
   "execution_count": 26,
   "source": [
    "model_weights = \"./weights/SModel_0.774_fold_1.pth\"\n",
    "model = load_model(model_weights, model, device)"
   ],
   "outputs": [],
   "metadata": {}
  },
  {
   "cell_type": "code",
   "execution_count": 27,
   "source": [
    "def get_embs(model, data, device):\n",
    "\n",
    "    A_emb = model(data[\"anchor\"].to(device), \"vtb\")\n",
    "    P_emb = model(data[\"positive\"].to(device), \"rtk\")\n",
    "    N_emb = model(data[\"negative\"].to(device), \"rtk\")\n",
    "\n",
    "    return A_emb, P_emb, N_emb"
   ],
   "outputs": [],
   "metadata": {}
  },
  {
   "cell_type": "code",
   "execution_count": 28,
   "source": [
    "# Threshold distance extimation:\n",
    "\n",
    "def calc_distances(v1, v2):\n",
    "    euclid = distance.euclidean(v1, v2)\n",
    "    cosine = distance.cosine(v1, v2)\n",
    "    return euclid, cosine"
   ],
   "outputs": [],
   "metadata": {}
  },
  {
   "cell_type": "code",
   "execution_count": 29,
   "source": [
    "pos_dists_eucl, neg_dists_eucl = [], []\n",
    "pos_dists_cos, neg_dists_cos = [], []\n",
    "\n",
    "\n",
    "emb_iter = iter(train_loader)\n",
    "for i in tqdm(range(len(emb_iter))):\n",
    "    data = next(emb_iter)\n",
    "    A_emb, P_emb, N_emb = get_embs(model, data, device)\n",
    "\n",
    "    A_emb = A_emb.squeeze(0).detach().cpu().numpy()\n",
    "    P_emb = P_emb.squeeze(0).detach().cpu().numpy()\n",
    "    N_emb = N_emb.squeeze(0).detach().cpu().numpy()\n",
    "\n",
    "    p_dist_eucl, p_dist_cos = calc_distances(A_emb, P_emb)\n",
    "    n_dist_eucl, n_dist_cos = calc_distances(A_emb, N_emb)\n",
    "\n",
    "    pos_dists_eucl.append(p_dist_eucl)\n",
    "    neg_dists_eucl.append(n_dist_eucl)\n",
    "\n",
    "    pos_dists_cos.append(p_dist_cos)\n",
    "    neg_dists_cos.append(n_dist_cos)\n"
   ],
   "outputs": [
    {
     "output_type": "stream",
     "name": "stderr",
     "text": [
      "100%|██████████| 11737/11737 [00:52<00:00, 221.67it/s]\n"
     ]
    }
   ],
   "metadata": {}
  },
  {
   "cell_type": "code",
   "execution_count": 30,
   "source": [
    "pos_dists_eucl = np.array(pos_dists_eucl)\n",
    "neg_dists_eucl = np.array(neg_dists_eucl)\n",
    "\n",
    "pos_dists_cos = np.array(pos_dists_cos)\n",
    "neg_dists_cos = np.array(neg_dists_cos)\n"
   ],
   "outputs": [],
   "metadata": {}
  },
  {
   "cell_type": "code",
   "execution_count": 31,
   "source": [
    "fig, ax = plt.subplots(1, 2, figsize=(14, 6))\n",
    "\n",
    "ax[0].hist(pos_dists_eucl, density=True, label=\"paired\")\n",
    "ax[0].hist(neg_dists_eucl, density=True, label=\"unpaired\", alpha=0.5)\n",
    "\n",
    "ax[1].hist(pos_dists_cos, density=True, label=\"paired\")\n",
    "ax[1].hist(neg_dists_cos, density=True, label=\"unpaired\", alpha=0.5)\n",
    "\n",
    "ax[0].legend()\n",
    "ax[1].legend()\n"
   ],
   "outputs": [
    {
     "output_type": "execute_result",
     "data": {
      "text/plain": [
       "<matplotlib.legend.Legend at 0x7f33bbd7a5b0>"
      ]
     },
     "metadata": {},
     "execution_count": 31
    },
    {
     "output_type": "display_data",
     "data": {
      "image/png": "[encoded data removed]",
      "text/plain": [
       "<Figure size 1008x432 with 2 Axes>"
      ]
     },
     "metadata": {
      "needs_background": "light"
     }
    }
   ],
   "metadata": {}
  },
  {
   "cell_type": "code",
   "execution_count": null,
   "source": [],
   "outputs": [],
   "metadata": {}
  }
 ],
 "metadata": {
  "interpreter": {
   "hash": "f7a55a407093d021edbe01d73df72d5de0a36cea9d2a9752b88f32e1e5c888a4"
  },
  "kernelspec": {
   "name": "python3",
   "display_name": "Python 3.8.10 64-bit ('matching': venv)"
  },
  "language_info": {
   "codemirror_mode": {
    "name": "ipython",
    "version": 3
   },
   "file_extension": ".py",
   "mimetype": "text/x-python",
   "name": "python",
   "nbconvert_exporter": "python",
   "pygments_lexer": "ipython3",
   "version": "3.8.10"
  },
  "orig_nbformat": 4
 },
 "nbformat": 4,
 "nbformat_minor": 2
}