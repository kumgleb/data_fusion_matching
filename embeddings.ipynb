{
 "cells": [
  {
   "cell_type": "code",
   "execution_count": 2,
   "source": [
    "import pickle\n",
    "import numpy as np\n",
    "import pandas as pd\n",
    "from tqdm import tqdm\n",
    "from navec import Navec\n",
    "from googletrans import Translator\n",
    "from gensim.models import KeyedVectors\n",
    "from sentence_transformers import SentenceTransformer\n",
    "from src.mcc_emb import create_mcc_embeddings_dict, clean_mcc_df_eng, translate_to_eng\n",
    "from src.transactions_emb import get_embed_dicts, create_transactions_embeddings\n",
    "from src.mcc_emb import process_mcc_df\n",
    "from src.clickstream_emb import (\n",
    "    process_categories_df,\n",
    "    create_clck_embeddings_dict,\n",
    "    load_clck_emb_dict,\n",
    "    create_clickstream_embeddings,\n",
    ")\n",
    "from src.utils import get_corpus, calc_distances, get_words_and_embs, get_top_k_words, filter_mcc_descriptipn\n",
    "\n",
    "from typing import Dict\n"
   ],
   "outputs": [
    {
     "output_type": "stream",
     "name": "stderr",
     "text": [
      "[nltk_data] Downloading package stopwords to /home/glebk/nltk_data...\n",
      "[nltk_data]   Package stopwords is already up-to-date!\n"
     ]
    }
   ],
   "metadata": {}
  },
  {
   "cell_type": "code",
   "execution_count": 3,
   "source": [
    "DATA = './word_emb/GoogleNews-vectors-negative300.bin.gz'\n",
    "\n",
    "wv_embeddings = KeyedVectors.load_word2vec_format(DATA, binary=True) "
   ],
   "outputs": [],
   "metadata": {}
  },
  {
   "cell_type": "markdown",
   "source": [
    "## Clck processing"
   ],
   "metadata": {}
  },
  {
   "cell_type": "code",
   "execution_count": 2,
   "source": [
    "CLICK_CATEGORIES_PATH = \"./data/click_categories.csv\""
   ],
   "outputs": [],
   "metadata": {}
  },
  {
   "cell_type": "code",
   "execution_count": 3,
   "source": [
    "clickstream_categories = pd.read_csv(CLICK_CATEGORIES_PATH)\n",
    "clickstream_categories.head(10)"
   ],
   "outputs": [
    {
     "output_type": "execute_result",
     "data": {
      "text/html": [
       "<div>\n",
       "<style scoped>\n",
       "    .dataframe tbody tr th:only-of-type {\n",
       "        vertical-align: middle;\n",
       "    }\n",
       "\n",
       "    .dataframe tbody tr th {\n",
       "        vertical-align: top;\n",
       "    }\n",
       "\n",
       "    .dataframe thead th {\n",
       "        text-align: right;\n",
       "    }\n",
       "</style>\n",
       "<table border=\"1\" class=\"dataframe\">\n",
       "  <thead>\n",
       "    <tr style=\"text-align: right;\">\n",
       "      <th></th>\n",
       "      <th>cat_id</th>\n",
       "      <th>level_0</th>\n",
       "      <th>level_1</th>\n",
       "      <th>level_2</th>\n",
       "    </tr>\n",
       "  </thead>\n",
       "  <tbody>\n",
       "    <tr>\n",
       "      <th>0</th>\n",
       "      <td>1</td>\n",
       "      <td>accessories</td>\n",
       "      <td>NaN</td>\n",
       "      <td>NaN</td>\n",
       "    </tr>\n",
       "    <tr>\n",
       "      <th>1</th>\n",
       "      <td>2</td>\n",
       "      <td>accessories</td>\n",
       "      <td>handbags</td>\n",
       "      <td>NaN</td>\n",
       "    </tr>\n",
       "    <tr>\n",
       "      <th>2</th>\n",
       "      <td>3</td>\n",
       "      <td>accessories</td>\n",
       "      <td>jewellery</td>\n",
       "      <td>NaN</td>\n",
       "    </tr>\n",
       "    <tr>\n",
       "      <th>3</th>\n",
       "      <td>8</td>\n",
       "      <td>accessories</td>\n",
       "      <td>watches</td>\n",
       "      <td>NaN</td>\n",
       "    </tr>\n",
       "    <tr>\n",
       "      <th>4</th>\n",
       "      <td>11</td>\n",
       "      <td>age</td>\n",
       "      <td>age_0-5_yo</td>\n",
       "      <td>NaN</td>\n",
       "    </tr>\n",
       "    <tr>\n",
       "      <th>5</th>\n",
       "      <td>12</td>\n",
       "      <td>age</td>\n",
       "      <td>age_17-23_yo</td>\n",
       "      <td>NaN</td>\n",
       "    </tr>\n",
       "    <tr>\n",
       "      <th>6</th>\n",
       "      <td>13</td>\n",
       "      <td>age</td>\n",
       "      <td>age_6-16_yo</td>\n",
       "      <td>NaN</td>\n",
       "    </tr>\n",
       "    <tr>\n",
       "      <th>7</th>\n",
       "      <td>14</td>\n",
       "      <td>audio</td>\n",
       "      <td>NaN</td>\n",
       "      <td>NaN</td>\n",
       "    </tr>\n",
       "    <tr>\n",
       "      <th>8</th>\n",
       "      <td>15</td>\n",
       "      <td>avid_music_listeners</td>\n",
       "      <td>NaN</td>\n",
       "      <td>NaN</td>\n",
       "    </tr>\n",
       "    <tr>\n",
       "      <th>9</th>\n",
       "      <td>19</td>\n",
       "      <td>avid_music_listeners</td>\n",
       "      <td>radio</td>\n",
       "      <td>NaN</td>\n",
       "    </tr>\n",
       "  </tbody>\n",
       "</table>\n",
       "</div>"
      ],
      "text/plain": [
       "   cat_id               level_0       level_1 level_2\n",
       "0       1           accessories           NaN     NaN\n",
       "1       2           accessories      handbags     NaN\n",
       "2       3           accessories     jewellery     NaN\n",
       "3       8           accessories       watches     NaN\n",
       "4      11                   age    age_0-5_yo     NaN\n",
       "5      12                   age  age_17-23_yo     NaN\n",
       "6      13                   age   age_6-16_yo     NaN\n",
       "7      14                 audio           NaN     NaN\n",
       "8      15  avid_music_listeners           NaN     NaN\n",
       "9      19  avid_music_listeners         radio     NaN"
      ]
     },
     "metadata": {},
     "execution_count": 3
    }
   ],
   "metadata": {}
  },
  {
   "cell_type": "code",
   "execution_count": 4,
   "source": [
    "clickstream_categories = process_categories_df(clickstream_categories)\n",
    "clickstream_categories.head()"
   ],
   "outputs": [
    {
     "output_type": "execute_result",
     "data": {
      "text/html": [
       "<div>\n",
       "<style scoped>\n",
       "    .dataframe tbody tr th:only-of-type {\n",
       "        vertical-align: middle;\n",
       "    }\n",
       "\n",
       "    .dataframe tbody tr th {\n",
       "        vertical-align: top;\n",
       "    }\n",
       "\n",
       "    .dataframe thead th {\n",
       "        text-align: right;\n",
       "    }\n",
       "</style>\n",
       "<table border=\"1\" class=\"dataframe\">\n",
       "  <thead>\n",
       "    <tr style=\"text-align: right;\">\n",
       "      <th></th>\n",
       "      <th>cat_id</th>\n",
       "      <th>Description</th>\n",
       "    </tr>\n",
       "  </thead>\n",
       "  <tbody>\n",
       "    <tr>\n",
       "      <th>0</th>\n",
       "      <td>1</td>\n",
       "      <td>accessories</td>\n",
       "    </tr>\n",
       "    <tr>\n",
       "      <th>1</th>\n",
       "      <td>2</td>\n",
       "      <td>accessories handbags</td>\n",
       "    </tr>\n",
       "    <tr>\n",
       "      <th>2</th>\n",
       "      <td>3</td>\n",
       "      <td>accessories jewellery</td>\n",
       "    </tr>\n",
       "    <tr>\n",
       "      <th>3</th>\n",
       "      <td>8</td>\n",
       "      <td>accessories watches</td>\n",
       "    </tr>\n",
       "    <tr>\n",
       "      <th>4</th>\n",
       "      <td>11</td>\n",
       "      <td>age child</td>\n",
       "    </tr>\n",
       "  </tbody>\n",
       "</table>\n",
       "</div>"
      ],
      "text/plain": [
       "   cat_id            Description\n",
       "0       1            accessories\n",
       "1       2   accessories handbags\n",
       "2       3  accessories jewellery\n",
       "3       8    accessories watches\n",
       "4      11              age child"
      ]
     },
     "metadata": {},
     "execution_count": 4
    }
   ],
   "metadata": {}
  },
  {
   "cell_type": "code",
   "execution_count": 5,
   "source": [
    "clickstream_categories.to_csv(\"./data/clck_cat_norm_eng.csv\", index=False)"
   ],
   "outputs": [],
   "metadata": {}
  },
  {
   "cell_type": "markdown",
   "source": [
    "## Clck corpus"
   ],
   "metadata": {}
  },
  {
   "cell_type": "code",
   "execution_count": 3,
   "source": [
    "clickstream_categories = pd.read_csv(\"/home/glebk/Datasets/Matching/clck_cat_norm_eng.csv\")\n",
    "clickstream_categories.head()"
   ],
   "outputs": [
    {
     "output_type": "execute_result",
     "data": {
      "text/html": [
       "<div>\n",
       "<style scoped>\n",
       "    .dataframe tbody tr th:only-of-type {\n",
       "        vertical-align: middle;\n",
       "    }\n",
       "\n",
       "    .dataframe tbody tr th {\n",
       "        vertical-align: top;\n",
       "    }\n",
       "\n",
       "    .dataframe thead th {\n",
       "        text-align: right;\n",
       "    }\n",
       "</style>\n",
       "<table border=\"1\" class=\"dataframe\">\n",
       "  <thead>\n",
       "    <tr style=\"text-align: right;\">\n",
       "      <th></th>\n",
       "      <th>cat_id</th>\n",
       "      <th>Description</th>\n",
       "    </tr>\n",
       "  </thead>\n",
       "  <tbody>\n",
       "    <tr>\n",
       "      <th>0</th>\n",
       "      <td>1</td>\n",
       "      <td>accessories</td>\n",
       "    </tr>\n",
       "    <tr>\n",
       "      <th>1</th>\n",
       "      <td>2</td>\n",
       "      <td>accessories handbags</td>\n",
       "    </tr>\n",
       "    <tr>\n",
       "      <th>2</th>\n",
       "      <td>3</td>\n",
       "      <td>accessories jewellery</td>\n",
       "    </tr>\n",
       "    <tr>\n",
       "      <th>3</th>\n",
       "      <td>8</td>\n",
       "      <td>accessories watches</td>\n",
       "    </tr>\n",
       "    <tr>\n",
       "      <th>4</th>\n",
       "      <td>11</td>\n",
       "      <td>age child</td>\n",
       "    </tr>\n",
       "  </tbody>\n",
       "</table>\n",
       "</div>"
      ],
      "text/plain": [
       "   cat_id            Description\n",
       "0       1            accessories\n",
       "1       2   accessories handbags\n",
       "2       3  accessories jewellery\n",
       "3       8    accessories watches\n",
       "4      11              age child"
      ]
     },
     "metadata": {},
     "execution_count": 3
    }
   ],
   "metadata": {}
  },
  {
   "cell_type": "code",
   "execution_count": 6,
   "source": [
    "clck_corpus = get_corpus(clickstream_categories)\n",
    "len(clck_corpus)"
   ],
   "outputs": [
    {
     "output_type": "execute_result",
     "data": {
      "text/plain": [
       "515"
      ]
     },
     "metadata": {},
     "execution_count": 6
    }
   ],
   "metadata": {}
  },
  {
   "cell_type": "markdown",
   "source": [
    "## MCC"
   ],
   "metadata": {}
  },
  {
   "cell_type": "code",
   "execution_count": 18,
   "source": [
    "MCC_CODES_PATH = \"./data/mcc_codes_ru.csv\""
   ],
   "outputs": [],
   "metadata": {}
  },
  {
   "cell_type": "code",
   "execution_count": null,
   "source": [
    "mcc_codes = pd.read_csv(MCC_CODES_PATH)\n",
    "mcc_codes.head(50)"
   ],
   "outputs": [],
   "metadata": {}
  },
  {
   "cell_type": "code",
   "execution_count": 24,
   "source": [
    "mcc_codes = process_mcc_df(mcc_codes)\n",
    "\n",
    "translator = Translator()\n",
    "mcc_codes_trns = translate_to_eng(mcc_codes, translator)\n",
    "mcc_codes = clean_mcc_df_eng(mcc_codes_trns)\n",
    "mcc_codes.head()"
   ],
   "outputs": [
    {
     "output_type": "execute_result",
     "data": {
      "text/html": [
       "<div>\n",
       "<style scoped>\n",
       "    .dataframe tbody tr th:only-of-type {\n",
       "        vertical-align: middle;\n",
       "    }\n",
       "\n",
       "    .dataframe tbody tr th {\n",
       "        vertical-align: top;\n",
       "    }\n",
       "\n",
       "    .dataframe thead th {\n",
       "        text-align: right;\n",
       "    }\n",
       "</style>\n",
       "<table border=\"1\" class=\"dataframe\">\n",
       "  <thead>\n",
       "    <tr style=\"text-align: right;\">\n",
       "      <th></th>\n",
       "      <th>MCC</th>\n",
       "      <th>Description</th>\n",
       "    </tr>\n",
       "  </thead>\n",
       "  <tbody>\n",
       "    <tr>\n",
       "      <th>0</th>\n",
       "      <td>742</td>\n",
       "      <td>veterinary services licensed professionals pri...</td>\n",
       "    </tr>\n",
       "    <tr>\n",
       "      <th>1</th>\n",
       "      <td>763</td>\n",
       "      <td>agricultural cooperatives associations provide...</td>\n",
       "    </tr>\n",
       "    <tr>\n",
       "      <th>2</th>\n",
       "      <td>780</td>\n",
       "      <td>horticulture landscaping services landscape ar...</td>\n",
       "    </tr>\n",
       "    <tr>\n",
       "      <th>3</th>\n",
       "      <td>1520</td>\n",
       "      <td>general contractors residential commercial con...</td>\n",
       "    </tr>\n",
       "    <tr>\n",
       "      <th>4</th>\n",
       "      <td>1711</td>\n",
       "      <td>general contractors ventilation heating plumbi...</td>\n",
       "    </tr>\n",
       "  </tbody>\n",
       "</table>\n",
       "</div>"
      ],
      "text/plain": [
       "    MCC                                        Description\n",
       "0   742  veterinary services licensed professionals pri...\n",
       "1   763  agricultural cooperatives associations provide...\n",
       "2   780  horticulture landscaping services landscape ar...\n",
       "3  1520  general contractors residential commercial con...\n",
       "4  1711  general contractors ventilation heating plumbi..."
      ]
     },
     "metadata": {},
     "execution_count": 24
    }
   ],
   "metadata": {}
  },
  {
   "cell_type": "code",
   "execution_count": 26,
   "source": [
    "mcc_codes.to_csv(\"./data/mcc_cat_norm_eng.csv\", index=False)"
   ],
   "outputs": [],
   "metadata": {}
  },
  {
   "cell_type": "code",
   "execution_count": 6,
   "source": [
    "mcc_codes = pd.read_csv(\"/home/glebk/Datasets/Matching/mcc_cat_norm_eng.csv\")"
   ],
   "outputs": [],
   "metadata": {}
  },
  {
   "cell_type": "markdown",
   "source": [
    "## Combination"
   ],
   "metadata": {}
  },
  {
   "cell_type": "code",
   "execution_count": 51,
   "source": [
    "mcc_codes = pd.read_csv(\"/home/glebk/Datasets/Matching/mcc_cat_norm_eng.csv\")\n",
    "clickstream_categories = pd.read_csv(\"/home/glebk/Datasets/Matching/clck_cat_norm_eng.csv\")"
   ],
   "outputs": [],
   "metadata": {}
  },
  {
   "cell_type": "code",
   "execution_count": 52,
   "source": [
    "stopwords = [\n",
    "\"services\",\n",
    "\"sale\",\n",
    "\"goods\",\n",
    "\"may\",\n",
    "\"used\",\n",
    "\"eg\",\n",
    "\"include\",\n",
    "\"includes\",\n",
    "\"service\",\n",
    "\"sales\",\n",
    "\"selling\",\n",
    "\"example\",\n",
    "\"outlets\",\n",
    "\"retail\",\n",
    "\"else\",\n",
    "\"new\",\n",
    "\"including\",\n",
    "\"also\",\n",
    "\"etc\"]"
   ],
   "outputs": [],
   "metadata": {}
  },
  {
   "cell_type": "code",
   "execution_count": 54,
   "source": [
    "clck_corpus = get_corpus(clickstream_categories, stopwords)\n",
    "len(clck_corpus)"
   ],
   "outputs": [
    {
     "output_type": "execute_result",
     "data": {
      "text/plain": [
       "240"
      ]
     },
     "metadata": {},
     "execution_count": 54
    }
   ],
   "metadata": {}
  },
  {
   "cell_type": "code",
   "execution_count": 59,
   "source": [
    "model = SentenceTransformer('paraphrase-MiniLM-L6-v2')"
   ],
   "outputs": [],
   "metadata": {}
  },
  {
   "cell_type": "code",
   "execution_count": null,
   "source": [
    "MODE = \"WE\"  # \"ST\" - SentenceTransformer or \"WE\" - word embedding"
   ],
   "outputs": [],
   "metadata": {}
  },
  {
   "cell_type": "code",
   "execution_count": 55,
   "source": [
    "clck_corpus_list = []\n",
    "clck_corpus_embs = []\n",
    "for w in clck_corpus:\n",
    "    try:\n",
    "        if MODE == \"WE\":\n",
    "            emb = wv_embeddings[w]\n",
    "        elif MODE == \"ST\":\n",
    "           emb = model.encode(w)\n",
    "        clck_corpus_embs.append(emb)\n",
    "        clck_corpus_list.append(w)\n",
    "    except:\n",
    "        continue\n",
    "\n",
    "clck_corpus_embs = np.array(clck_corpus_embs)"
   ],
   "outputs": [],
   "metadata": {}
  },
  {
   "cell_type": "code",
   "execution_count": 62,
   "source": [
    "mcc_descriptipn = mcc_codes.loc[123, \"Description\"]\n",
    "mcc_descriptipn"
   ],
   "outputs": [
    {
     "output_type": "execute_result",
     "data": {
      "text/plain": [
       "'travel agencies excursion organizers mainly provide tourist information booking services outlets act agents behalf travelers booking air tickets purchase tickets land sea transport including air flights bus tours sea cruises car rental rail transportation accommodation also includes tour operators organize collect sales travel agent directly buyer traveler book tour packages hotel concierge checkout'"
      ]
     },
     "metadata": {},
     "execution_count": 62
    }
   ],
   "metadata": {}
  },
  {
   "cell_type": "code",
   "execution_count": 63,
   "source": [
    "top_k = get_top_k_words(mcc_descriptipn, clck_corpus_embs, wv_embeddings, stopwords, 1)\n",
    "\n",
    "(\" \").join(top_k)"
   ],
   "outputs": [
    {
     "output_type": "execute_result",
     "data": {
      "text/plain": [
       "'travelers'"
      ]
     },
     "metadata": {},
     "execution_count": 63
    }
   ],
   "metadata": {}
  },
  {
   "cell_type": "code",
   "execution_count": 64,
   "source": [
    "def filter_mcc_descriptipn(mcc_codes, mcc_descriptipn, clck_corpus_embs, wv_embeddings, stopwords, k=1):\n",
    "\n",
    "    for idx in tqdm(mcc_codes.index):\n",
    "        mcc_descriptipn = mcc_codes.loc[idx, \"Description\"]\n",
    "        top_k = get_top_k_words(mcc_descriptipn, clck_corpus_embs, wv_embeddings, stopwords, k)\n",
    "        mcc_codes.loc[idx, \"Description\"] = (\" \").join(top_k)\n",
    "\n",
    "    return mcc_codes\n"
   ],
   "outputs": [],
   "metadata": {}
  },
  {
   "cell_type": "code",
   "execution_count": 65,
   "source": [
    "new_mcc = filter_mcc_descriptipn(mcc_codes, mcc_descriptipn, clck_corpus_embs, wv_embeddings, stopwords, 1)\n",
    "\n",
    "new_mcc.head()"
   ],
   "outputs": [
    {
     "output_type": "stream",
     "name": "stderr",
     "text": [
      "100%|██████████| 385/385 [00:00<00:00, 899.84it/s]\n"
     ]
    },
    {
     "output_type": "execute_result",
     "data": {
      "text/html": [
       "<div>\n",
       "<style scoped>\n",
       "    .dataframe tbody tr th:only-of-type {\n",
       "        vertical-align: middle;\n",
       "    }\n",
       "\n",
       "    .dataframe tbody tr th {\n",
       "        vertical-align: top;\n",
       "    }\n",
       "\n",
       "    .dataframe thead th {\n",
       "        text-align: right;\n",
       "    }\n",
       "</style>\n",
       "<table border=\"1\" class=\"dataframe\">\n",
       "  <thead>\n",
       "    <tr style=\"text-align: right;\">\n",
       "      <th></th>\n",
       "      <th>MCC</th>\n",
       "      <th>Description</th>\n",
       "    </tr>\n",
       "  </thead>\n",
       "  <tbody>\n",
       "    <tr>\n",
       "      <th>0</th>\n",
       "      <td>742</td>\n",
       "      <td>dogs</td>\n",
       "    </tr>\n",
       "    <tr>\n",
       "      <th>1</th>\n",
       "      <td>763</td>\n",
       "      <td>cultivation</td>\n",
       "    </tr>\n",
       "    <tr>\n",
       "      <th>2</th>\n",
       "      <td>780</td>\n",
       "      <td>sowing</td>\n",
       "    </tr>\n",
       "    <tr>\n",
       "      <th>3</th>\n",
       "      <td>1520</td>\n",
       "      <td>reconstruction</td>\n",
       "    </tr>\n",
       "    <tr>\n",
       "      <th>4</th>\n",
       "      <td>1711</td>\n",
       "      <td>sprinklers</td>\n",
       "    </tr>\n",
       "  </tbody>\n",
       "</table>\n",
       "</div>"
      ],
      "text/plain": [
       "    MCC     Description\n",
       "0   742            dogs\n",
       "1   763     cultivation\n",
       "2   780          sowing\n",
       "3  1520  reconstruction\n",
       "4  1711      sprinklers"
      ]
     },
     "metadata": {},
     "execution_count": 65
    }
   ],
   "metadata": {}
  },
  {
   "cell_type": "code",
   "execution_count": 66,
   "source": [
    "new_mcc.to_csv(\"./data/filtered_mcc_description.csv\")"
   ],
   "outputs": [],
   "metadata": {}
  },
  {
   "cell_type": "code",
   "execution_count": 68,
   "source": [
    "mcc_embs = create_mcc_embeddings_dict(new_mcc, wv_embeddings)"
   ],
   "outputs": [
    {
     "output_type": "stream",
     "name": "stderr",
     "text": [
      "100%|██████████| 385/385 [00:00<00:00, 28616.11it/s]\n"
     ]
    }
   ],
   "metadata": {}
  },
  {
   "cell_type": "code",
   "execution_count": 69,
   "source": [
    "def create_clck_embeddings_dict(\n",
    "    clickstream_cat: pd.DataFrame, wv_embeddings: KeyedVectors\n",
    ") -> Dict:\n",
    "\n",
    "    embs = {}\n",
    "\n",
    "    for idx in tqdm(clickstream_cat.index):\n",
    "        clck_code = clickstream_cat.loc[idx, \"cat_id\"]\n",
    "        discr = clickstream_cat.loc[idx, \"Description\"]\n",
    "\n",
    "    \n",
    "        if MODE == \"WE\":\n",
    "            embs[clck_code] = create_text_embed(discr, wv_embeddings)\n",
    "        elif MODE == \"ST\":\n",
    "            embs[clck_code] = model.encode(discr)\n",
    "\n",
    "\n",
    "    with open(\"./embeddings/new_clck_cat_emb_en_filtered.pickle\", \"wb\") as f:\n",
    "        pickle.dump(embs, f, protocol=pickle.DEFAULT_PROTOCOL)\n",
    "\n",
    "    return embs"
   ],
   "outputs": [],
   "metadata": {}
  },
  {
   "cell_type": "code",
   "execution_count": 70,
   "source": [
    "mcc_embs = create_clck_embeddings_dict(clickstream_categories, wv_embeddings)\n"
   ],
   "outputs": [
    {
     "output_type": "stream",
     "name": "stderr",
     "text": [
      "100%|██████████| 402/402 [00:00<00:00, 28073.30it/s]\n"
     ]
    }
   ],
   "metadata": {}
  },
  {
   "cell_type": "markdown",
   "source": [
    "## Codes to IDx"
   ],
   "metadata": {}
  },
  {
   "cell_type": "code",
   "execution_count": 71,
   "source": [
    "import pickle"
   ],
   "outputs": [],
   "metadata": {}
  },
  {
   "cell_type": "code",
   "execution_count": 72,
   "source": [
    "MCC_PATH = \"/home/glebk/VSProjects/projects/Matching/data/mcc_codes.csv\"\n",
    "CLCK_PATH = \"/home/glebk/VSProjects/projects/Matching/data/click_categories.csv\""
   ],
   "outputs": [],
   "metadata": {}
  },
  {
   "cell_type": "code",
   "execution_count": 73,
   "source": [
    "mcc_codes = pd.read_csv(MCC_PATH)\n",
    "clck_codes = pd.read_csv(CLCK_PATH)"
   ],
   "outputs": [],
   "metadata": {}
  },
  {
   "cell_type": "code",
   "execution_count": 74,
   "source": [
    "mcc_codes = np.sort(mcc_codes['MCC'].unique())\n",
    "idxs = list(range(len(mcc_codes)))\n",
    "\n",
    "mcc_code_to_idx = {mcc_code: idx for mcc_code, idx in zip(mcc_codes, idxs)}\n",
    "\n",
    "with open(\"./submission/mcc_code_to_idx.pickle\", \"wb\") as f:\n",
    "    pickle.dump(mcc_code_to_idx, f, protocol=pickle.DEFAULT_PROTOCOL)\n"
   ],
   "outputs": [],
   "metadata": {}
  },
  {
   "cell_type": "code",
   "execution_count": 75,
   "source": [
    "clck_codes = np.sort(clck_codes['cat_id'].unique())\n",
    "idxs = list(range(len(clck_codes)))\n",
    "\n",
    "clck_code_to_idx = {clck_code: idx for clck_code, idx in zip(clck_codes, idxs)}\n",
    "\n",
    "with open(\"./submission/cat_code_to_idx.pickle\", \"wb\") as f:\n",
    "    pickle.dump(clck_code_to_idx, f, protocol=pickle.DEFAULT_PROTOCOL)\n"
   ],
   "outputs": [],
   "metadata": {}
  },
  {
   "cell_type": "code",
   "execution_count": 76,
   "source": [
    "with open(\"/home/glebk/VSProjects/projects/Matching/embeddings/new_mcc_emb_en_filtered.pickle\", \"rb\") as f:\n",
    "    mcc_emb = pickle.load(f)\n",
    "\n",
    "mcc_seq_emb = []\n",
    "for orig_idx, seq_idx in mcc_code_to_idx.items():\n",
    "    emb = mcc_emb[orig_idx]\n",
    "    mcc_seq_emb.append(emb)\n",
    "\n",
    "mcc_seq_emb = np.array(mcc_seq_emb)\n",
    "mcc_seq_emb.shape"
   ],
   "outputs": [
    {
     "output_type": "execute_result",
     "data": {
      "text/plain": [
       "(385, 300)"
      ]
     },
     "metadata": {},
     "execution_count": 76
    }
   ],
   "metadata": {}
  },
  {
   "cell_type": "code",
   "execution_count": 77,
   "source": [
    "with open(\"./submission/mcc_code_emb_seq.pickle\", \"wb\") as f:\n",
    "    pickle.dump(mcc_seq_emb, f, protocol=pickle.DEFAULT_PROTOCOL)"
   ],
   "outputs": [],
   "metadata": {}
  },
  {
   "cell_type": "code",
   "execution_count": 78,
   "source": [
    "with open(\"/home/glebk/VSProjects/projects/Matching/embeddings/new_clck_cat_emb_en_filtered.pickle\", \"rb\") as f:\n",
    "    clc_emb = pickle.load(f)\n",
    "\n",
    "clc_emb_seq = []\n",
    "for orig_idx, seq_idx in clck_code_to_idx.items():\n",
    "    emb = clc_emb[orig_idx]\n",
    "    clc_emb_seq.append(emb)\n",
    "\n",
    "clc_emb_seq = np.array(clc_emb_seq)\n",
    "clc_emb_seq.shape"
   ],
   "outputs": [
    {
     "output_type": "execute_result",
     "data": {
      "text/plain": [
       "(402, 300)"
      ]
     },
     "metadata": {},
     "execution_count": 78
    }
   ],
   "metadata": {}
  },
  {
   "cell_type": "code",
   "execution_count": 79,
   "source": [
    "with open(\"./submission/clc_code_emb_seq.pickle\", \"wb\") as f:\n",
    "    pickle.dump(clc_emb_seq, f, protocol=pickle.DEFAULT_PROTOCOL)"
   ],
   "outputs": [],
   "metadata": {}
  }
 ],
 "metadata": {
  "interpreter": {
   "hash": "f7a55a407093d021edbe01d73df72d5de0a36cea9d2a9752b88f32e1e5c888a4"
  },
  "kernelspec": {
   "name": "python3",
   "display_name": "Python 3.8.10 64-bit ('matching': venv)"
  },
  "language_info": {
   "codemirror_mode": {
    "name": "ipython",
    "version": 3
   },
   "file_extension": ".py",
   "mimetype": "text/x-python",
   "name": "python",
   "nbconvert_exporter": "python",
   "pygments_lexer": "ipython3",
   "version": "3.8.10"
  },
  "orig_nbformat": 4
 },
 "nbformat": 4,
 "nbformat_minor": 2
}