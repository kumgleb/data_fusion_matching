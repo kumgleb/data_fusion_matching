{
 "cells": [
  {
   "cell_type": "code",
   "execution_count": 1,
   "source": [
    "import pickle\n",
    "import numpy as np\n",
    "import pandas as pd\n",
    "from tqdm import tqdm\n",
    "from typing import Dict"
   ],
   "outputs": [],
   "metadata": {}
  },
  {
   "cell_type": "markdown",
   "source": [
    "## Mapping categories id's to indexes in range [0, max_n_categories]:"
   ],
   "metadata": {}
  },
  {
   "cell_type": "code",
   "execution_count": 2,
   "source": [
    "MCC_PATH = \"./data/mcc_codes.csv\"\n",
    "CLCK_PATH = \"./data/click_categories.csv\""
   ],
   "outputs": [],
   "metadata": {}
  },
  {
   "cell_type": "code",
   "execution_count": 3,
   "source": [
    "mcc_codes = pd.read_csv(MCC_PATH)\n",
    "clck_codes = pd.read_csv(CLCK_PATH)"
   ],
   "outputs": [],
   "metadata": {}
  },
  {
   "cell_type": "code",
   "execution_count": 4,
   "source": [
    "mcc_codes = np.sort(mcc_codes['MCC'].unique())\n",
    "idxs = list(range(len(mcc_codes)))\n",
    "\n",
    "mcc_code_to_idx = {mcc_code: idx for mcc_code, idx in zip(mcc_codes, idxs)}\n",
    "\n",
    "with open(\"./submission/mcc_code_to_idx.pickle\", \"wb\") as f:\n",
    "    pickle.dump(mcc_code_to_idx, f, protocol=pickle.DEFAULT_PROTOCOL)\n"
   ],
   "outputs": [],
   "metadata": {}
  },
  {
   "cell_type": "code",
   "execution_count": 5,
   "source": [
    "clck_codes = np.sort(clck_codes['cat_id'].unique())\n",
    "idxs = list(range(len(clck_codes)))\n",
    "\n",
    "clck_code_to_idx = {clck_code: idx for clck_code, idx in zip(clck_codes, idxs)}\n",
    "\n",
    "with open(\"./submission/cat_code_to_idx.pickle\", \"wb\") as f:\n",
    "    pickle.dump(clck_code_to_idx, f, protocol=pickle.DEFAULT_PROTOCOL)\n"
   ],
   "outputs": [],
   "metadata": {}
  }
 ],
 "metadata": {
  "interpreter": {
   "hash": "f7a55a407093d021edbe01d73df72d5de0a36cea9d2a9752b88f32e1e5c888a4"
  },
  "kernelspec": {
   "name": "python3",
   "display_name": "Python 3.8.10 64-bit ('matching': venv)"
  },
  "language_info": {
   "codemirror_mode": {
    "name": "ipython",
    "version": 3
   },
   "file_extension": ".py",
   "mimetype": "text/x-python",
   "name": "python",
   "nbconvert_exporter": "python",
   "pygments_lexer": "ipython3",
   "version": "3.8.10"
  },
  "orig_nbformat": 4
 },
 "nbformat": 4,
 "nbformat_minor": 2
}